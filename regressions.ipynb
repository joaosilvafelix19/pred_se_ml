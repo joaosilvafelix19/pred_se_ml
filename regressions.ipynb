{
 "cells": [
  {
   "cell_type": "markdown",
   "metadata": {},
   "source": [
    "### Libraries"
   ]
  },
  {
   "cell_type": "code",
   "execution_count": 43,
   "metadata": {},
   "outputs": [],
   "source": [
    "import pandas as pd\n",
    "import numpy as np \n",
    "\n",
    "import warnings\n",
    "import os\n",
    "\n",
    "from sklearn.preprocessing import MinMaxScaler\n",
    "\n",
    "from sklearn.model_selection import train_test_split\n",
    "\n",
    "from sklearn.metrics import mean_absolute_error\n",
    "\n",
    "import matplotlib.pyplot as plt"
   ]
  },
  {
   "cell_type": "code",
   "execution_count": 44,
   "metadata": {},
   "outputs": [],
   "source": [
    "pd.set_option(\"display.max_columns\", None)\n",
    "pd.set_option(\"display.max_rows\", None)\n",
    "warnings.filterwarnings(\"ignore\")\n",
    "os.chdir(\"C:\\\\Users\\\\joaos\\\\Documents\\\\GitHub\\\\pred_se_ml\\data\")"
   ]
  },
  {
   "cell_type": "markdown",
   "metadata": {},
   "source": [
    "##### Importing the data"
   ]
  },
  {
   "cell_type": "code",
   "execution_count": 45,
   "metadata": {},
   "outputs": [
    {
     "data": {
      "text/plain": [
       "(2420, 26)"
      ]
     },
     "execution_count": 45,
     "metadata": {},
     "output_type": "execute_result"
    }
   ],
   "source": [
    "# Importing the data\n",
    "df = pd.read_csv(\"pred_se_ml.csv\")\n",
    "\n",
    "df.shape"
   ]
  },
  {
   "cell_type": "code",
   "execution_count": 46,
   "metadata": {},
   "outputs": [
    {
     "data": {
      "text/html": [
       "<div>\n",
       "<style scoped>\n",
       "    .dataframe tbody tr th:only-of-type {\n",
       "        vertical-align: middle;\n",
       "    }\n",
       "\n",
       "    .dataframe tbody tr th {\n",
       "        vertical-align: top;\n",
       "    }\n",
       "\n",
       "    .dataframe thead th {\n",
       "        text-align: right;\n",
       "    }\n",
       "</style>\n",
       "<table border=\"1\" class=\"dataframe\">\n",
       "  <thead>\n",
       "    <tr style=\"text-align: right;\">\n",
       "      <th></th>\n",
       "      <th>country</th>\n",
       "      <th>year</th>\n",
       "      <th>fdi</th>\n",
       "      <th>property_time</th>\n",
       "      <th>cost_procedures</th>\n",
       "      <th>business_time</th>\n",
       "      <th>business_procedure</th>\n",
       "      <th>tribute_time</th>\n",
       "      <th>governement_spending</th>\n",
       "      <th>exchange</th>\n",
       "      <th>inflation</th>\n",
       "      <th>gdp_pc</th>\n",
       "      <th>unemployment</th>\n",
       "      <th>democ</th>\n",
       "      <th>tax_burden</th>\n",
       "      <th>diversity</th>\n",
       "      <th>quality</th>\n",
       "      <th>se_medina</th>\n",
       "      <th>democ_closed_anocracy</th>\n",
       "      <th>democ_democracy</th>\n",
       "      <th>democ_full_democracy</th>\n",
       "      <th>democ_interregnum</th>\n",
       "      <th>democ_interruption</th>\n",
       "      <th>democ_open_anocracy</th>\n",
       "      <th>democ_transition</th>\n",
       "      <th>lgdp_pc</th>\n",
       "    </tr>\n",
       "  </thead>\n",
       "  <tbody>\n",
       "    <tr>\n",
       "      <th>0</th>\n",
       "      <td>angola</td>\n",
       "      <td>1995</td>\n",
       "      <td>8.529489</td>\n",
       "      <td>NaN</td>\n",
       "      <td>NaN</td>\n",
       "      <td>NaN</td>\n",
       "      <td>NaN</td>\n",
       "      <td>NaN</td>\n",
       "      <td>NaN</td>\n",
       "      <td>NaN</td>\n",
       "      <td>1825.495149</td>\n",
       "      <td>398.120223</td>\n",
       "      <td>NaN</td>\n",
       "      <td>transition</td>\n",
       "      <td>61.6</td>\n",
       "      <td>6.002369</td>\n",
       "      <td>0.37</td>\n",
       "      <td>52.47</td>\n",
       "      <td>0</td>\n",
       "      <td>0</td>\n",
       "      <td>0</td>\n",
       "      <td>0</td>\n",
       "      <td>0</td>\n",
       "      <td>0</td>\n",
       "      <td>1</td>\n",
       "      <td>5.986754</td>\n",
       "    </tr>\n",
       "    <tr>\n",
       "      <th>1</th>\n",
       "      <td>angola</td>\n",
       "      <td>1996</td>\n",
       "      <td>2.762770</td>\n",
       "      <td>NaN</td>\n",
       "      <td>NaN</td>\n",
       "      <td>NaN</td>\n",
       "      <td>NaN</td>\n",
       "      <td>NaN</td>\n",
       "      <td>NaN</td>\n",
       "      <td>NaN</td>\n",
       "      <td>4800.531644</td>\n",
       "      <td>454.375004</td>\n",
       "      <td>NaN</td>\n",
       "      <td>transition</td>\n",
       "      <td>54.6</td>\n",
       "      <td>6.048760</td>\n",
       "      <td>0.40</td>\n",
       "      <td>46.30</td>\n",
       "      <td>0</td>\n",
       "      <td>0</td>\n",
       "      <td>0</td>\n",
       "      <td>0</td>\n",
       "      <td>0</td>\n",
       "      <td>0</td>\n",
       "      <td>1</td>\n",
       "      <td>6.118923</td>\n",
       "    </tr>\n",
       "    <tr>\n",
       "      <th>2</th>\n",
       "      <td>angola</td>\n",
       "      <td>1997</td>\n",
       "      <td>5.363360</td>\n",
       "      <td>NaN</td>\n",
       "      <td>NaN</td>\n",
       "      <td>NaN</td>\n",
       "      <td>NaN</td>\n",
       "      <td>NaN</td>\n",
       "      <td>NaN</td>\n",
       "      <td>NaN</td>\n",
       "      <td>95.453022</td>\n",
       "      <td>516.127849</td>\n",
       "      <td>NaN</td>\n",
       "      <td>autocracy</td>\n",
       "      <td>52.6</td>\n",
       "      <td>5.991146</td>\n",
       "      <td>0.35</td>\n",
       "      <td>50.48</td>\n",
       "      <td>0</td>\n",
       "      <td>0</td>\n",
       "      <td>0</td>\n",
       "      <td>0</td>\n",
       "      <td>0</td>\n",
       "      <td>0</td>\n",
       "      <td>0</td>\n",
       "      <td>6.246355</td>\n",
       "    </tr>\n",
       "    <tr>\n",
       "      <th>3</th>\n",
       "      <td>angola</td>\n",
       "      <td>1998</td>\n",
       "      <td>17.121191</td>\n",
       "      <td>NaN</td>\n",
       "      <td>NaN</td>\n",
       "      <td>NaN</td>\n",
       "      <td>NaN</td>\n",
       "      <td>NaN</td>\n",
       "      <td>NaN</td>\n",
       "      <td>NaN</td>\n",
       "      <td>39.359348</td>\n",
       "      <td>423.403332</td>\n",
       "      <td>NaN</td>\n",
       "      <td>autocracy</td>\n",
       "      <td>59.1</td>\n",
       "      <td>5.882152</td>\n",
       "      <td>0.34</td>\n",
       "      <td>49.21</td>\n",
       "      <td>0</td>\n",
       "      <td>0</td>\n",
       "      <td>0</td>\n",
       "      <td>0</td>\n",
       "      <td>0</td>\n",
       "      <td>0</td>\n",
       "      <td>0</td>\n",
       "      <td>6.048325</td>\n",
       "    </tr>\n",
       "    <tr>\n",
       "      <th>4</th>\n",
       "      <td>angola</td>\n",
       "      <td>1999</td>\n",
       "      <td>40.167251</td>\n",
       "      <td>NaN</td>\n",
       "      <td>NaN</td>\n",
       "      <td>NaN</td>\n",
       "      <td>NaN</td>\n",
       "      <td>NaN</td>\n",
       "      <td>NaN</td>\n",
       "      <td>NaN</td>\n",
       "      <td>557.501113</td>\n",
       "      <td>387.689415</td>\n",
       "      <td>NaN</td>\n",
       "      <td>autocracy</td>\n",
       "      <td>47.9</td>\n",
       "      <td>5.903543</td>\n",
       "      <td>0.34</td>\n",
       "      <td>48.64</td>\n",
       "      <td>0</td>\n",
       "      <td>0</td>\n",
       "      <td>0</td>\n",
       "      <td>0</td>\n",
       "      <td>0</td>\n",
       "      <td>0</td>\n",
       "      <td>0</td>\n",
       "      <td>5.960205</td>\n",
       "    </tr>\n",
       "  </tbody>\n",
       "</table>\n",
       "</div>"
      ],
      "text/plain": [
       "  country  year        fdi  property_time  cost_procedures  business_time  \\\n",
       "0  angola  1995   8.529489            NaN              NaN            NaN   \n",
       "1  angola  1996   2.762770            NaN              NaN            NaN   \n",
       "2  angola  1997   5.363360            NaN              NaN            NaN   \n",
       "3  angola  1998  17.121191            NaN              NaN            NaN   \n",
       "4  angola  1999  40.167251            NaN              NaN            NaN   \n",
       "\n",
       "   business_procedure  tribute_time  governement_spending  exchange  \\\n",
       "0                 NaN           NaN                   NaN       NaN   \n",
       "1                 NaN           NaN                   NaN       NaN   \n",
       "2                 NaN           NaN                   NaN       NaN   \n",
       "3                 NaN           NaN                   NaN       NaN   \n",
       "4                 NaN           NaN                   NaN       NaN   \n",
       "\n",
       "     inflation      gdp_pc  unemployment       democ  tax_burden  diversity  \\\n",
       "0  1825.495149  398.120223           NaN  transition        61.6   6.002369   \n",
       "1  4800.531644  454.375004           NaN  transition        54.6   6.048760   \n",
       "2    95.453022  516.127849           NaN   autocracy        52.6   5.991146   \n",
       "3    39.359348  423.403332           NaN   autocracy        59.1   5.882152   \n",
       "4   557.501113  387.689415           NaN   autocracy        47.9   5.903543   \n",
       "\n",
       "   quality  se_medina  democ_closed_anocracy  democ_democracy  \\\n",
       "0     0.37      52.47                      0                0   \n",
       "1     0.40      46.30                      0                0   \n",
       "2     0.35      50.48                      0                0   \n",
       "3     0.34      49.21                      0                0   \n",
       "4     0.34      48.64                      0                0   \n",
       "\n",
       "   democ_full_democracy  democ_interregnum  democ_interruption  \\\n",
       "0                     0                  0                   0   \n",
       "1                     0                  0                   0   \n",
       "2                     0                  0                   0   \n",
       "3                     0                  0                   0   \n",
       "4                     0                  0                   0   \n",
       "\n",
       "   democ_open_anocracy  democ_transition   lgdp_pc  \n",
       "0                    0                 1  5.986754  \n",
       "1                    0                 1  6.118923  \n",
       "2                    0                 0  6.246355  \n",
       "3                    0                 0  6.048325  \n",
       "4                    0                 0  5.960205  "
      ]
     },
     "execution_count": 46,
     "metadata": {},
     "output_type": "execute_result"
    }
   ],
   "source": [
    "df.head()"
   ]
  },
  {
   "cell_type": "code",
   "execution_count": 47,
   "metadata": {},
   "outputs": [
    {
     "data": {
      "text/plain": [
       "tribute_time             0.536777\n",
       "property_time            0.495868\n",
       "cost_procedures          0.455372\n",
       "business_time            0.455372\n",
       "business_procedure       0.455372\n",
       "unemployment             0.335950\n",
       "governement_spending     0.078926\n",
       "exchange                 0.070661\n",
       "tax_burden               0.046694\n",
       "quality                  0.011570\n",
       "inflation                0.007438\n",
       "fdi                      0.006198\n",
       "lgdp_pc                  0.002066\n",
       "gdp_pc                   0.002066\n",
       "democ_transition         0.000000\n",
       "democ_open_anocracy      0.000000\n",
       "democ_full_democracy     0.000000\n",
       "democ_interruption       0.000000\n",
       "democ_interregnum        0.000000\n",
       "country                  0.000000\n",
       "democ_democracy          0.000000\n",
       "democ_closed_anocracy    0.000000\n",
       "se_medina                0.000000\n",
       "diversity                0.000000\n",
       "year                     0.000000\n",
       "democ                    0.000000\n",
       "dtype: float64"
      ]
     },
     "execution_count": 47,
     "metadata": {},
     "output_type": "execute_result"
    }
   ],
   "source": [
    "# Missing data by column (%)\n",
    "df.isnull().mean().sort_values(ascending=False)"
   ]
  },
  {
   "cell_type": "code",
   "execution_count": 48,
   "metadata": {},
   "outputs": [
    {
     "name": "stdout",
     "output_type": "stream",
     "text": [
      "<class 'pandas.core.frame.DataFrame'>\n",
      "RangeIndex: 2420 entries, 0 to 2419\n",
      "Data columns (total 26 columns):\n",
      " #   Column                 Non-Null Count  Dtype  \n",
      "---  ------                 --------------  -----  \n",
      " 0   country                2420 non-null   object \n",
      " 1   year                   2420 non-null   int64  \n",
      " 2   fdi                    2405 non-null   float64\n",
      " 3   property_time          1220 non-null   float64\n",
      " 4   cost_procedures        1318 non-null   float64\n",
      " 5   business_time          1318 non-null   float64\n",
      " 6   business_procedure     1318 non-null   float64\n",
      " 7   tribute_time           1121 non-null   float64\n",
      " 8   governement_spending   2229 non-null   float64\n",
      " 9   exchange               2249 non-null   float64\n",
      " 10  inflation              2402 non-null   float64\n",
      " 11  gdp_pc                 2415 non-null   float64\n",
      " 12  unemployment           1607 non-null   float64\n",
      " 13  democ                  2420 non-null   object \n",
      " 14  tax_burden             2307 non-null   float64\n",
      " 15  diversity              2420 non-null   float64\n",
      " 16  quality                2392 non-null   float64\n",
      " 17  se_medina              2420 non-null   float64\n",
      " 18  democ_closed_anocracy  2420 non-null   int64  \n",
      " 19  democ_democracy        2420 non-null   int64  \n",
      " 20  democ_full_democracy   2420 non-null   int64  \n",
      " 21  democ_interregnum      2420 non-null   int64  \n",
      " 22  democ_interruption     2420 non-null   int64  \n",
      " 23  democ_open_anocracy    2420 non-null   int64  \n",
      " 24  democ_transition       2420 non-null   int64  \n",
      " 25  lgdp_pc                2415 non-null   float64\n",
      "dtypes: float64(16), int64(8), object(2)\n",
      "memory usage: 491.7+ KB\n"
     ]
    }
   ],
   "source": [
    "# df info\n",
    "df.info()"
   ]
  },
  {
   "cell_type": "markdown",
   "metadata": {},
   "source": [
    "There is already dummy columns regarding democracy, hence, the democ column will be dropped"
   ]
  },
  {
   "cell_type": "code",
   "execution_count": 49,
   "metadata": {},
   "outputs": [],
   "source": [
    "df = df.drop('democ', axis=1)"
   ]
  },
  {
   "cell_type": "markdown",
   "metadata": {},
   "source": [
    "### Spliting between train and test"
   ]
  },
  {
   "cell_type": "code",
   "execution_count": 50,
   "metadata": {},
   "outputs": [],
   "source": [
    "train_set, test_set = train_test_split(df, test_size=0.2, random_state=0)"
   ]
  },
  {
   "cell_type": "code",
   "execution_count": 51,
   "metadata": {},
   "outputs": [
    {
     "name": "stdout",
     "output_type": "stream",
     "text": [
      "(1936, 25)\n",
      "(484, 25)\n"
     ]
    }
   ],
   "source": [
    "print(train_set.shape)\n",
    "print(test_set.shape)"
   ]
  },
  {
   "cell_type": "markdown",
   "metadata": {},
   "source": [
    "### Dealing with missing data"
   ]
  },
  {
   "cell_type": "markdown",
   "metadata": {},
   "source": [
    "There is a lot of missing data, especially in relation to the tribute_time, however, if we limit the year range from 2004 to 2014, the proportion of missing data will decrease"
   ]
  },
  {
   "cell_type": "code",
   "execution_count": 52,
   "metadata": {},
   "outputs": [],
   "source": [
    "train_set = train_set[(train_set['year']>=2004) & (train_set['year'] <= 2014)]"
   ]
  },
  {
   "cell_type": "code",
   "execution_count": 53,
   "metadata": {},
   "outputs": [
    {
     "data": {
      "text/plain": [
       "unemployment             28.584995\n",
       "tribute_time             15.859449\n",
       "property_time             8.736942\n",
       "cost_procedures           8.736942\n",
       "business_time             8.736942\n",
       "business_procedure        8.736942\n",
       "governement_spending      6.077873\n",
       "exchange                  5.508072\n",
       "tax_burden                0.949668\n",
       "democ_closed_anocracy     0.000000\n",
       "democ_transition          0.000000\n",
       "democ_open_anocracy       0.000000\n",
       "democ_interruption        0.000000\n",
       "democ_interregnum         0.000000\n",
       "democ_full_democracy      0.000000\n",
       "democ_democracy           0.000000\n",
       "country                   0.000000\n",
       "se_medina                 0.000000\n",
       "quality                   0.000000\n",
       "diversity                 0.000000\n",
       "year                      0.000000\n",
       "gdp_pc                    0.000000\n",
       "inflation                 0.000000\n",
       "fdi                       0.000000\n",
       "lgdp_pc                   0.000000\n",
       "dtype: float64"
      ]
     },
     "execution_count": 53,
     "metadata": {},
     "output_type": "execute_result"
    }
   ],
   "source": [
    "train_set.isnull().mean().sort_values(ascending=False)*100"
   ]
  },
  {
   "cell_type": "code",
   "execution_count": 54,
   "metadata": {},
   "outputs": [],
   "source": [
    "# Proportion of missing data by country in the column 'unemployment' since it's the variable with the biggest proportion of missing data\n",
    "missing_by_country = train_set.groupby('country')['unemployment'].apply(lambda x: x.isnull().sum() / x.count()).sort_values(ascending=False)\n",
    "#print(missing_by_country)\n",
    "\n",
    "# Collecting the names of countries that have a proportion of missing data in the unemployment column above 5%\n",
    "countries = missing_by_country[missing_by_country > 5].index.tolist()\n",
    "#countries\n",
    "\n",
    "# Removing these countries\n",
    "train_set = train_set[~train_set['country'].isin(countries)]"
   ]
  },
  {
   "cell_type": "code",
   "execution_count": 55,
   "metadata": {},
   "outputs": [],
   "source": [
    "# Replacing missing values ​​with the average for each country for each attribute\n",
    "mean_by_country = train_set.groupby('country').transform('mean')\n",
    "train_set.fillna(mean_by_country, inplace=True)"
   ]
  },
  {
   "cell_type": "markdown",
   "metadata": {},
   "source": [
    "After the imputation, 'government spending' and 'exchange' still having missing values, this happens because some countries have the 'inf' as observations and not a usual "
   ]
  },
  {
   "cell_type": "code",
   "execution_count": 56,
   "metadata": {},
   "outputs": [],
   "source": [
    "# This is seen with the follow code for governement_spending and after for exchange (just change governement_spending by exchange to see all the countries)\n",
    "missing_by_country = train_set.groupby('country')['governement_spending'].apply(lambda x: x.isnull().sum() / x.count()).sort_values(ascending=False)\n",
    "#print(missing_by_country)"
   ]
  },
  {
   "cell_type": "code",
   "execution_count": 57,
   "metadata": {},
   "outputs": [],
   "source": [
    "# Droping these countries\n",
    "countries_to_drop = ['malawi', 'trinidad_and_tobago', 'liberia', 'yemen', \"cote_d'ivoire\", \"nigeria\"]\n",
    "train_set = train_set[~train_set['country'].isin(countries_to_drop)]"
   ]
  },
  {
   "cell_type": "code",
   "execution_count": 58,
   "metadata": {},
   "outputs": [
    {
     "data": {
      "text/plain": [
       "country                  0.0\n",
       "tax_burden               0.0\n",
       "democ_transition         0.0\n",
       "democ_open_anocracy      0.0\n",
       "democ_interruption       0.0\n",
       "democ_interregnum        0.0\n",
       "democ_full_democracy     0.0\n",
       "democ_democracy          0.0\n",
       "democ_closed_anocracy    0.0\n",
       "se_medina                0.0\n",
       "quality                  0.0\n",
       "diversity                0.0\n",
       "unemployment             0.0\n",
       "year                     0.0\n",
       "gdp_pc                   0.0\n",
       "inflation                0.0\n",
       "exchange                 0.0\n",
       "governement_spending     0.0\n",
       "tribute_time             0.0\n",
       "business_procedure       0.0\n",
       "business_time            0.0\n",
       "cost_procedures          0.0\n",
       "property_time            0.0\n",
       "fdi                      0.0\n",
       "lgdp_pc                  0.0\n",
       "dtype: float64"
      ]
     },
     "execution_count": 58,
     "metadata": {},
     "output_type": "execute_result"
    }
   ],
   "source": [
    "# No more missing values\n",
    "train_set.isnull().mean().sort_values(ascending=False)"
   ]
  },
  {
   "cell_type": "code",
   "execution_count": 59,
   "metadata": {},
   "outputs": [],
   "source": [
    "# Droping columns that will not be used\n",
    "train_set = train_set.drop(['country', 'year'], axis=1)"
   ]
  },
  {
   "cell_type": "code",
   "execution_count": 63,
   "metadata": {},
   "outputs": [
    {
     "data": {
      "text/html": [
       "<div>\n",
       "<style scoped>\n",
       "    .dataframe tbody tr th:only-of-type {\n",
       "        vertical-align: middle;\n",
       "    }\n",
       "\n",
       "    .dataframe tbody tr th {\n",
       "        vertical-align: top;\n",
       "    }\n",
       "\n",
       "    .dataframe thead th {\n",
       "        text-align: right;\n",
       "    }\n",
       "</style>\n",
       "<table border=\"1\" class=\"dataframe\">\n",
       "  <thead>\n",
       "    <tr style=\"text-align: right;\">\n",
       "      <th></th>\n",
       "      <th>Shadow Economy</th>\n",
       "      <th>FDI</th>\n",
       "      <th>Property Time</th>\n",
       "      <th>Cost Procedures</th>\n",
       "      <th>Business Time</th>\n",
       "      <th>Business Procedure</th>\n",
       "      <th>Tribute Time</th>\n",
       "      <th>Government Spending</th>\n",
       "      <th>Exchange</th>\n",
       "      <th>Inflation</th>\n",
       "      <th>Unemployment</th>\n",
       "      <th>Tax Burden</th>\n",
       "      <th>Diversity</th>\n",
       "      <th>Quality</th>\n",
       "      <th>Closed Anocracy</th>\n",
       "      <th>Democracy</th>\n",
       "      <th>Dem. Full</th>\n",
       "      <th>Dem. Interregnum</th>\n",
       "      <th>Dem. Interruption</th>\n",
       "      <th>Open Anocracy</th>\n",
       "      <th>Dem. Transition</th>\n",
       "      <th>Log. GDP Per Capita</th>\n",
       "    </tr>\n",
       "  </thead>\n",
       "  <tbody>\n",
       "    <tr>\n",
       "      <th>1078</th>\n",
       "      <td>18.11</td>\n",
       "      <td>1.516276</td>\n",
       "      <td>63.10</td>\n",
       "      <td>41.5</td>\n",
       "      <td>32.6</td>\n",
       "      <td>14.0</td>\n",
       "      <td>252.88</td>\n",
       "      <td>10.295160</td>\n",
       "      <td>53.844132</td>\n",
       "      <td>6.186504</td>\n",
       "      <td>5.011333</td>\n",
       "      <td>78.3000</td>\n",
       "      <td>2.266109</td>\n",
       "      <td>0.83</td>\n",
       "      <td>0</td>\n",
       "      <td>1</td>\n",
       "      <td>0</td>\n",
       "      <td>0</td>\n",
       "      <td>0</td>\n",
       "      <td>0</td>\n",
       "      <td>0</td>\n",
       "      <td>7.271048</td>\n",
       "    </tr>\n",
       "    <tr>\n",
       "      <th>1055</th>\n",
       "      <td>23.44</td>\n",
       "      <td>2.025179</td>\n",
       "      <td>27.64</td>\n",
       "      <td>21.2</td>\n",
       "      <td>53.9</td>\n",
       "      <td>13.0</td>\n",
       "      <td>253.00</td>\n",
       "      <td>9.005915</td>\n",
       "      <td>46.701274</td>\n",
       "      <td>15.264294</td>\n",
       "      <td>5.614000</td>\n",
       "      <td>81.9000</td>\n",
       "      <td>2.271354</td>\n",
       "      <td>0.84</td>\n",
       "      <td>0</td>\n",
       "      <td>1</td>\n",
       "      <td>0</td>\n",
       "      <td>0</td>\n",
       "      <td>0</td>\n",
       "      <td>0</td>\n",
       "      <td>0</td>\n",
       "      <td>8.037363</td>\n",
       "    </tr>\n",
       "    <tr>\n",
       "      <th>1354</th>\n",
       "      <td>48.85</td>\n",
       "      <td>0.960390</td>\n",
       "      <td>71.00</td>\n",
       "      <td>41.9</td>\n",
       "      <td>44.0</td>\n",
       "      <td>9.0</td>\n",
       "      <td>262.00</td>\n",
       "      <td>17.611115</td>\n",
       "      <td>49.149142</td>\n",
       "      <td>5.879883</td>\n",
       "      <td>5.850000</td>\n",
       "      <td>73.1591</td>\n",
       "      <td>3.252917</td>\n",
       "      <td>0.87</td>\n",
       "      <td>0</td>\n",
       "      <td>0</td>\n",
       "      <td>0</td>\n",
       "      <td>0</td>\n",
       "      <td>0</td>\n",
       "      <td>1</td>\n",
       "      <td>0</td>\n",
       "      <td>7.627431</td>\n",
       "    </tr>\n",
       "    <tr>\n",
       "      <th>2290</th>\n",
       "      <td>39.18</td>\n",
       "      <td>4.110826</td>\n",
       "      <td>66.00</td>\n",
       "      <td>99.2</td>\n",
       "      <td>36.0</td>\n",
       "      <td>17.0</td>\n",
       "      <td>237.00</td>\n",
       "      <td>14.492763</td>\n",
       "      <td>38.994285</td>\n",
       "      <td>-1.741185</td>\n",
       "      <td>1.900000</td>\n",
       "      <td>80.7000</td>\n",
       "      <td>3.102539</td>\n",
       "      <td>0.50</td>\n",
       "      <td>1</td>\n",
       "      <td>0</td>\n",
       "      <td>0</td>\n",
       "      <td>0</td>\n",
       "      <td>0</td>\n",
       "      <td>0</td>\n",
       "      <td>0</td>\n",
       "      <td>5.800918</td>\n",
       "    </tr>\n",
       "    <tr>\n",
       "      <th>2376</th>\n",
       "      <td>22.08</td>\n",
       "      <td>0.903381</td>\n",
       "      <td>23.00</td>\n",
       "      <td>0.3</td>\n",
       "      <td>45.0</td>\n",
       "      <td>6.0</td>\n",
       "      <td>197.00</td>\n",
       "      <td>18.195143</td>\n",
       "      <td>54.636350</td>\n",
       "      <td>5.539056</td>\n",
       "      <td>21.416000</td>\n",
       "      <td>69.6000</td>\n",
       "      <td>2.496934</td>\n",
       "      <td>0.93</td>\n",
       "      <td>0</td>\n",
       "      <td>1</td>\n",
       "      <td>0</td>\n",
       "      <td>0</td>\n",
       "      <td>0</td>\n",
       "      <td>0</td>\n",
       "      <td>0</td>\n",
       "      <td>9.075327</td>\n",
       "    </tr>\n",
       "  </tbody>\n",
       "</table>\n",
       "</div>"
      ],
      "text/plain": [
       "      Shadow Economy       FDI  Property Time  Cost Procedures  Business Time  \\\n",
       "1078           18.11  1.516276          63.10             41.5           32.6   \n",
       "1055           23.44  2.025179          27.64             21.2           53.9   \n",
       "1354           48.85  0.960390          71.00             41.9           44.0   \n",
       "2290           39.18  4.110826          66.00             99.2           36.0   \n",
       "2376           22.08  0.903381          23.00              0.3           45.0   \n",
       "\n",
       "      Business Procedure  Tribute Time  Government Spending   Exchange  \\\n",
       "1078                14.0        252.88            10.295160  53.844132   \n",
       "1055                13.0        253.00             9.005915  46.701274   \n",
       "1354                 9.0        262.00            17.611115  49.149142   \n",
       "2290                17.0        237.00            14.492763  38.994285   \n",
       "2376                 6.0        197.00            18.195143  54.636350   \n",
       "\n",
       "      Inflation  Unemployment  Tax Burden  Diversity  Quality  \\\n",
       "1078   6.186504      5.011333     78.3000   2.266109     0.83   \n",
       "1055  15.264294      5.614000     81.9000   2.271354     0.84   \n",
       "1354   5.879883      5.850000     73.1591   3.252917     0.87   \n",
       "2290  -1.741185      1.900000     80.7000   3.102539     0.50   \n",
       "2376   5.539056     21.416000     69.6000   2.496934     0.93   \n",
       "\n",
       "      Closed Anocracy  Democracy  Dem. Full  Dem. Interregnum  \\\n",
       "1078                0          1          0                 0   \n",
       "1055                0          1          0                 0   \n",
       "1354                0          0          0                 0   \n",
       "2290                1          0          0                 0   \n",
       "2376                0          1          0                 0   \n",
       "\n",
       "      Dem. Interruption  Open Anocracy  Dem. Transition  Log. GDP Per Capita  \n",
       "1078                  0              0                0             7.271048  \n",
       "1055                  0              0                0             8.037363  \n",
       "1354                  0              1                0             7.627431  \n",
       "2290                  0              0                0             5.800918  \n",
       "2376                  0              0                0             9.075327  "
      ]
     },
     "execution_count": 63,
     "metadata": {},
     "output_type": "execute_result"
    }
   ],
   "source": [
    "train_set.head()"
   ]
  },
  {
   "cell_type": "code",
   "execution_count": 61,
   "metadata": {},
   "outputs": [],
   "source": [
    "# Renaming the columns for better future visualization\n",
    "rename_dictionary = {'se_medina':'Shadow Economy',\n",
    "                        'lgdp_pc': 'Log. GDP Per Capita', \n",
    "                         'democ_transition': 'Dem. Transition', \n",
    "                         'democ_interruption': 'Dem. Interruption',\n",
    "                        'democ_interregnum':'Dem. Interregnum',\n",
    "                        'democ_full_democracy': 'Dem. Full',\n",
    "                        'democ_democracy':'Democracy',\n",
    "                        'democ_autocracy':'Autocracy',\n",
    "                        'democ_closed_anocracy':'Closed Anocracy',\n",
    "                        'democ_open_anocracy': 'Open Anocracy',\n",
    "                        'quality':'Quality',\n",
    "                        'diversity':'Diversity',\n",
    "                        'tax_burden':'Tax Burden',\n",
    "                        'unemployment':'Unemployment',\n",
    "                        'inflation':'Inflation',\n",
    "                        'exchange':'Exchange',\n",
    "                        'governement_spending':'Government Spending',\n",
    "                         'tribute_time':'Tribute Time',\n",
    "                        'business_procedure':'Business Procedure',\n",
    "                        'business_time':'Business Time',\n",
    "                        'cost_procedures':'Cost Procedures',\n",
    "                        'property_time':'Property Time',\n",
    "                        'fdi':'FDI'}\n",
    "\n",
    "train_set = train_set.rename(columns=rename_dictionary)"
   ]
  },
  {
   "cell_type": "code",
   "execution_count": 62,
   "metadata": {},
   "outputs": [],
   "source": [
    "# Changing the order\n",
    "new_order = ['Shadow Economy', 'FDI', 'Property Time', 'Cost Procedures', 'Business Time', 'Business Procedure',\n",
    "               'Tribute Time', 'Government Spending', 'Exchange', 'Inflation', 'Unemployment', 'Tax Burden', \n",
    "               'Diversity', 'Quality', 'Closed Anocracy', 'Democracy', 'Dem. Full', 'Dem. Interregnum', \n",
    "               'Dem. Interruption', 'Open Anocracy', 'Dem. Transition', 'Log. GDP Per Capita']\n",
    "\n",
    "train_set = train_set.reindex(columns=new_order)"
   ]
  },
  {
   "cell_type": "markdown",
   "metadata": {},
   "source": [
    "### Data padronization"
   ]
  },
  {
   "cell_type": "code",
   "execution_count": 66,
   "metadata": {},
   "outputs": [],
   "source": [
    "# Save the columns' names\n",
    "columns_names = train_set.columns\n",
    "\n",
    "# Initialize MinMaxScaler\n",
    "scaler = MinMaxScaler()\n",
    "\n",
    "# Apply the MinMax\n",
    "train_set_scaled = pd.DataFrame(scaler.fit_transform(train_set), columns=columns_names)"
   ]
  },
  {
   "cell_type": "markdown",
   "metadata": {},
   "source": [
    "### Spliting the data between train and validation"
   ]
  },
  {
   "cell_type": "code",
   "execution_count": 68,
   "metadata": {},
   "outputs": [],
   "source": [
    "# separating the data into train and validation\n",
    "X_train, X_valid, y_train, y_valid = train_test_split(\n",
    "    train_set_scaled.drop(labels=['Shadow Economy'], axis=1),\n",
    "    train_set_scaled['Shadow Economy'],\n",
    "    test_size=0.2,\n",
    "    random_state=0\n",
    ")"
   ]
  },
  {
   "cell_type": "markdown",
   "metadata": {},
   "source": [
    "### Regressions"
   ]
  },
  {
   "cell_type": "markdown",
   "metadata": {},
   "source": [
    "#### Linear regression"
   ]
  },
  {
   "cell_type": "code",
   "execution_count": 73,
   "metadata": {},
   "outputs": [
    {
     "name": "stdout",
     "output_type": "stream",
     "text": [
      "Mean Absolute Percentage Error (MAPE) on validation set: 45.94%\n"
     ]
    }
   ],
   "source": [
    "from sklearn.linear_model import LinearRegression\n",
    "\n",
    "# Create a linear regression model\n",
    "model = LinearRegression()\n",
    "\n",
    "# Train the model on the training set\n",
    "model.fit(X_train, y_train)\n",
    "\n",
    "# Make predictions on the validation set\n",
    "y_pred = model.predict(X_valid)\n",
    "\n",
    "# Evaluate the model using MAPE\n",
    "mape = np.mean(np.abs((y_valid - y_pred) / y_valid)) * 100\n",
    "print(f'Mean Absolute Percentage Error (MAPE) on validation set: {mape:.2f}%')"
   ]
  },
  {
   "cell_type": "code",
   "execution_count": 72,
   "metadata": {},
   "outputs": [
    {
     "data": {
      "image/png": "[encoded data removed]",
      "text/plain": [
       "<Figure size 640x480 with 1 Axes>"
      ]
     },
     "metadata": {},
     "output_type": "display_data"
    }
   ],
   "source": [
    "# Plot the actual vs predicted values\n",
    "plt.scatter(y_valid, y_pred)\n",
    "plt.plot([min(y_valid), max(y_valid)], [min(y_valid), max(y_valid)], linestyle='--', color='red', linewidth=2, label='Perfect Predictions')\n",
    "plt.title('Linear Regression: Actual vs Predicted')\n",
    "plt.xlabel('Actual Values')\n",
    "plt.ylabel('Predicted Values')\n",
    "plt.legend()\n",
    "plt.show()"
   ]
  },
  {
   "cell_type": "code",
   "execution_count": null,
   "metadata": {},
   "outputs": [],
   "source": []
  }
 ],
 "metadata": {
  "kernelspec": {
   "display_name": "Python 3",
   "language": "python",
   "name": "python3"
  },
  "language_info": {
   "codemirror_mode": {
    "name": "ipython",
    "version": 3
   },
   "file_extension": ".py",
   "mimetype": "text/x-python",
   "name": "python",
   "nbconvert_exporter": "python",
   "pygments_lexer": "ipython3",
   "version": "3.11.7"
  }
 },
 "nbformat": 4,
 "nbformat_minor": 2
}
