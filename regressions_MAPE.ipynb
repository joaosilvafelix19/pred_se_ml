{
 "cells": [
  {
   "cell_type": "markdown",
   "metadata": {},
   "source": [
    "### Regressions"
   ]
  },
  {
   "cell_type": "code",
   "execution_count": 1,
   "metadata": {},
   "outputs": [
    {
     "name": "stderr",
     "output_type": "stream",
     "text": [
      "IProgress not found. Please update jupyter and ipywidgets. See https://ipywidgets.readthedocs.io/en/stable/user_install.html\n"
     ]
    }
   ],
   "source": [
    "import pandas as pd\n",
    "import numpy as np\n",
    "from pprint import pprint\n",
    "\n",
    "import warnings\n",
    "import os\n",
    "\n",
    "from sklearn.preprocessing import MinMaxScaler\n",
    "\n",
    "from sklearn.model_selection import train_test_split\n",
    "\n",
    "from sklearn.metrics import mean_absolute_error\n",
    "\n",
    "from sklearn.model_selection import GridSearchCV, KFold\n",
    "\n",
    "import seaborn as sns\n",
    "import matplotlib.pyplot as plt\n",
    "import matplotlib.style as style\n",
    "from matplotlib.font_manager import FontProperties\n",
    "from matplotlib.gridspec import GridSpec\n",
    "\n",
    "import shap"
   ]
  },
  {
   "cell_type": "code",
   "execution_count": 2,
   "metadata": {},
   "outputs": [],
   "source": [
    "pd.set_option(\"display.max_columns\", None)\n",
    "pd.set_option(\"display.max_rows\", None)\n",
    "warnings.filterwarnings(\"ignore\")\n",
    "os.chdir(\"C:\\\\Users\\\\joaos\\\\Documents\\\\GitHub\\\\pred_se_ml\\data\")"
   ]
  },
  {
   "cell_type": "markdown",
   "metadata": {},
   "source": [
    "### Importing the data"
   ]
  },
  {
   "cell_type": "code",
   "execution_count": 5,
   "metadata": {},
   "outputs": [
    {
     "name": "stdout",
     "output_type": "stream",
     "text": [
      "(2420, 26)\n"
     ]
    },
    {
     "data": {
      "text/html": [
       "<div>\n",
       "<style scoped>\n",
       "    .dataframe tbody tr th:only-of-type {\n",
       "        vertical-align: middle;\n",
       "    }\n",
       "\n",
       "    .dataframe tbody tr th {\n",
       "        vertical-align: top;\n",
       "    }\n",
       "\n",
       "    .dataframe thead th {\n",
       "        text-align: right;\n",
       "    }\n",
       "</style>\n",
       "<table border=\"1\" class=\"dataframe\">\n",
       "  <thead>\n",
       "    <tr style=\"text-align: right;\">\n",
       "      <th></th>\n",
       "      <th>country</th>\n",
       "      <th>year</th>\n",
       "      <th>fdi</th>\n",
       "      <th>property_time</th>\n",
       "      <th>cost_procedures</th>\n",
       "      <th>business_time</th>\n",
       "      <th>business_procedure</th>\n",
       "      <th>tribute_time</th>\n",
       "      <th>governement_spending</th>\n",
       "      <th>exchange</th>\n",
       "      <th>inflation</th>\n",
       "      <th>gdp_pc</th>\n",
       "      <th>unemployment</th>\n",
       "      <th>democ</th>\n",
       "      <th>tax_burden</th>\n",
       "      <th>diversity</th>\n",
       "      <th>quality</th>\n",
       "      <th>se_medina</th>\n",
       "      <th>democ_closed_anocracy</th>\n",
       "      <th>democ_democracy</th>\n",
       "      <th>democ_full_democracy</th>\n",
       "      <th>democ_interregnum</th>\n",
       "      <th>democ_interruption</th>\n",
       "      <th>democ_open_anocracy</th>\n",
       "      <th>democ_transition</th>\n",
       "      <th>lgdp_pc</th>\n",
       "    </tr>\n",
       "  </thead>\n",
       "  <tbody>\n",
       "    <tr>\n",
       "      <th>0</th>\n",
       "      <td>angola</td>\n",
       "      <td>1995</td>\n",
       "      <td>8.529489</td>\n",
       "      <td>NaN</td>\n",
       "      <td>NaN</td>\n",
       "      <td>NaN</td>\n",
       "      <td>NaN</td>\n",
       "      <td>NaN</td>\n",
       "      <td>NaN</td>\n",
       "      <td>NaN</td>\n",
       "      <td>1825.495149</td>\n",
       "      <td>398.120223</td>\n",
       "      <td>NaN</td>\n",
       "      <td>transition</td>\n",
       "      <td>61.6</td>\n",
       "      <td>6.002369</td>\n",
       "      <td>0.37</td>\n",
       "      <td>52.47</td>\n",
       "      <td>0</td>\n",
       "      <td>0</td>\n",
       "      <td>0</td>\n",
       "      <td>0</td>\n",
       "      <td>0</td>\n",
       "      <td>0</td>\n",
       "      <td>1</td>\n",
       "      <td>5.986754</td>\n",
       "    </tr>\n",
       "    <tr>\n",
       "      <th>1</th>\n",
       "      <td>angola</td>\n",
       "      <td>1996</td>\n",
       "      <td>2.762770</td>\n",
       "      <td>NaN</td>\n",
       "      <td>NaN</td>\n",
       "      <td>NaN</td>\n",
       "      <td>NaN</td>\n",
       "      <td>NaN</td>\n",
       "      <td>NaN</td>\n",
       "      <td>NaN</td>\n",
       "      <td>4800.531644</td>\n",
       "      <td>454.375004</td>\n",
       "      <td>NaN</td>\n",
       "      <td>transition</td>\n",
       "      <td>54.6</td>\n",
       "      <td>6.048760</td>\n",
       "      <td>0.40</td>\n",
       "      <td>46.30</td>\n",
       "      <td>0</td>\n",
       "      <td>0</td>\n",
       "      <td>0</td>\n",
       "      <td>0</td>\n",
       "      <td>0</td>\n",
       "      <td>0</td>\n",
       "      <td>1</td>\n",
       "      <td>6.118923</td>\n",
       "    </tr>\n",
       "    <tr>\n",
       "      <th>2</th>\n",
       "      <td>angola</td>\n",
       "      <td>1997</td>\n",
       "      <td>5.363360</td>\n",
       "      <td>NaN</td>\n",
       "      <td>NaN</td>\n",
       "      <td>NaN</td>\n",
       "      <td>NaN</td>\n",
       "      <td>NaN</td>\n",
       "      <td>NaN</td>\n",
       "      <td>NaN</td>\n",
       "      <td>95.453022</td>\n",
       "      <td>516.127849</td>\n",
       "      <td>NaN</td>\n",
       "      <td>autocracy</td>\n",
       "      <td>52.6</td>\n",
       "      <td>5.991146</td>\n",
       "      <td>0.35</td>\n",
       "      <td>50.48</td>\n",
       "      <td>0</td>\n",
       "      <td>0</td>\n",
       "      <td>0</td>\n",
       "      <td>0</td>\n",
       "      <td>0</td>\n",
       "      <td>0</td>\n",
       "      <td>0</td>\n",
       "      <td>6.246355</td>\n",
       "    </tr>\n",
       "    <tr>\n",
       "      <th>3</th>\n",
       "      <td>angola</td>\n",
       "      <td>1998</td>\n",
       "      <td>17.121191</td>\n",
       "      <td>NaN</td>\n",
       "      <td>NaN</td>\n",
       "      <td>NaN</td>\n",
       "      <td>NaN</td>\n",
       "      <td>NaN</td>\n",
       "      <td>NaN</td>\n",
       "      <td>NaN</td>\n",
       "      <td>39.359348</td>\n",
       "      <td>423.403332</td>\n",
       "      <td>NaN</td>\n",
       "      <td>autocracy</td>\n",
       "      <td>59.1</td>\n",
       "      <td>5.882152</td>\n",
       "      <td>0.34</td>\n",
       "      <td>49.21</td>\n",
       "      <td>0</td>\n",
       "      <td>0</td>\n",
       "      <td>0</td>\n",
       "      <td>0</td>\n",
       "      <td>0</td>\n",
       "      <td>0</td>\n",
       "      <td>0</td>\n",
       "      <td>6.048325</td>\n",
       "    </tr>\n",
       "    <tr>\n",
       "      <th>4</th>\n",
       "      <td>angola</td>\n",
       "      <td>1999</td>\n",
       "      <td>40.167251</td>\n",
       "      <td>NaN</td>\n",
       "      <td>NaN</td>\n",
       "      <td>NaN</td>\n",
       "      <td>NaN</td>\n",
       "      <td>NaN</td>\n",
       "      <td>NaN</td>\n",
       "      <td>NaN</td>\n",
       "      <td>557.501113</td>\n",
       "      <td>387.689415</td>\n",
       "      <td>NaN</td>\n",
       "      <td>autocracy</td>\n",
       "      <td>47.9</td>\n",
       "      <td>5.903543</td>\n",
       "      <td>0.34</td>\n",
       "      <td>48.64</td>\n",
       "      <td>0</td>\n",
       "      <td>0</td>\n",
       "      <td>0</td>\n",
       "      <td>0</td>\n",
       "      <td>0</td>\n",
       "      <td>0</td>\n",
       "      <td>0</td>\n",
       "      <td>5.960205</td>\n",
       "    </tr>\n",
       "  </tbody>\n",
       "</table>\n",
       "</div>"
      ],
      "text/plain": [
       "  country  year        fdi  property_time  cost_procedures  business_time  \\\n",
       "0  angola  1995   8.529489            NaN              NaN            NaN   \n",
       "1  angola  1996   2.762770            NaN              NaN            NaN   \n",
       "2  angola  1997   5.363360            NaN              NaN            NaN   \n",
       "3  angola  1998  17.121191            NaN              NaN            NaN   \n",
       "4  angola  1999  40.167251            NaN              NaN            NaN   \n",
       "\n",
       "   business_procedure  tribute_time  governement_spending  exchange  \\\n",
       "0                 NaN           NaN                   NaN       NaN   \n",
       "1                 NaN           NaN                   NaN       NaN   \n",
       "2                 NaN           NaN                   NaN       NaN   \n",
       "3                 NaN           NaN                   NaN       NaN   \n",
       "4                 NaN           NaN                   NaN       NaN   \n",
       "\n",
       "     inflation      gdp_pc  unemployment       democ  tax_burden  diversity  \\\n",
       "0  1825.495149  398.120223           NaN  transition        61.6   6.002369   \n",
       "1  4800.531644  454.375004           NaN  transition        54.6   6.048760   \n",
       "2    95.453022  516.127849           NaN   autocracy        52.6   5.991146   \n",
       "3    39.359348  423.403332           NaN   autocracy        59.1   5.882152   \n",
       "4   557.501113  387.689415           NaN   autocracy        47.9   5.903543   \n",
       "\n",
       "   quality  se_medina  democ_closed_anocracy  democ_democracy  \\\n",
       "0     0.37      52.47                      0                0   \n",
       "1     0.40      46.30                      0                0   \n",
       "2     0.35      50.48                      0                0   \n",
       "3     0.34      49.21                      0                0   \n",
       "4     0.34      48.64                      0                0   \n",
       "\n",
       "   democ_full_democracy  democ_interregnum  democ_interruption  \\\n",
       "0                     0                  0                   0   \n",
       "1                     0                  0                   0   \n",
       "2                     0                  0                   0   \n",
       "3                     0                  0                   0   \n",
       "4                     0                  0                   0   \n",
       "\n",
       "   democ_open_anocracy  democ_transition   lgdp_pc  \n",
       "0                    0                 1  5.986754  \n",
       "1                    0                 1  6.118923  \n",
       "2                    0                 0  6.246355  \n",
       "3                    0                 0  6.048325  \n",
       "4                    0                 0  5.960205  "
      ]
     },
     "execution_count": 5,
     "metadata": {},
     "output_type": "execute_result"
    }
   ],
   "source": [
    "# Importing the data\n",
    "df = pd.read_csv(\"pred_se_ml.csv\")\n",
    "\n",
    "print(df.shape)\n",
    "\n",
    "df.head()"
   ]
  },
  {
   "cell_type": "code",
   "execution_count": 7,
   "metadata": {},
   "outputs": [
    {
     "data": {
      "text/plain": [
       "tribute_time            0.536777\n",
       "property_time           0.495868\n",
       "cost_procedures         0.455372\n",
       "business_time           0.455372\n",
       "business_procedure      0.455372\n",
       "unemployment            0.335950\n",
       "governement_spending    0.078926\n",
       "exchange                0.070661\n",
       "tax_burden              0.046694\n",
       "quality                 0.011570\n",
       "dtype: float64"
      ]
     },
     "execution_count": 7,
     "metadata": {},
     "output_type": "execute_result"
    }
   ],
   "source": [
    "# Missing data by column (%)\n",
    "df.isnull().mean().sort_values(ascending=False).head(10)"
   ]
  },
  {
   "cell_type": "code",
   "execution_count": 8,
   "metadata": {},
   "outputs": [
    {
     "name": "stdout",
     "output_type": "stream",
     "text": [
      "<class 'pandas.core.frame.DataFrame'>\n",
      "RangeIndex: 2420 entries, 0 to 2419\n",
      "Data columns (total 26 columns):\n",
      " #   Column                 Non-Null Count  Dtype  \n",
      "---  ------                 --------------  -----  \n",
      " 0   country                2420 non-null   object \n",
      " 1   year                   2420 non-null   int64  \n",
      " 2   fdi                    2405 non-null   float64\n",
      " 3   property_time          1220 non-null   float64\n",
      " 4   cost_procedures        1318 non-null   float64\n",
      " 5   business_time          1318 non-null   float64\n",
      " 6   business_procedure     1318 non-null   float64\n",
      " 7   tribute_time           1121 non-null   float64\n",
      " 8   governement_spending   2229 non-null   float64\n",
      " 9   exchange               2249 non-null   float64\n",
      " 10  inflation              2402 non-null   float64\n",
      " 11  gdp_pc                 2415 non-null   float64\n",
      " 12  unemployment           1607 non-null   float64\n",
      " 13  democ                  2420 non-null   object \n",
      " 14  tax_burden             2307 non-null   float64\n",
      " 15  diversity              2420 non-null   float64\n",
      " 16  quality                2392 non-null   float64\n",
      " 17  se_medina              2420 non-null   float64\n",
      " 18  democ_closed_anocracy  2420 non-null   int64  \n",
      " 19  democ_democracy        2420 non-null   int64  \n",
      " 20  democ_full_democracy   2420 non-null   int64  \n",
      " 21  democ_interregnum      2420 non-null   int64  \n",
      " 22  democ_interruption     2420 non-null   int64  \n",
      " 23  democ_open_anocracy    2420 non-null   int64  \n",
      " 24  democ_transition       2420 non-null   int64  \n",
      " 25  lgdp_pc                2415 non-null   float64\n",
      "dtypes: float64(16), int64(8), object(2)\n",
      "memory usage: 491.7+ KB\n"
     ]
    }
   ],
   "source": [
    "# df info\n",
    "df.info()"
   ]
  },
  {
   "cell_type": "markdown",
   "metadata": {},
   "source": [
    "There is already dummy columns regarding democracy, hence, the democ column will be dropped"
   ]
  },
  {
   "cell_type": "code",
   "execution_count": 9,
   "metadata": {},
   "outputs": [],
   "source": [
    "df = df.drop('democ', axis=1)"
   ]
  },
  {
   "cell_type": "markdown",
   "metadata": {},
   "source": [
    "### Dealing with missing data"
   ]
  },
  {
   "cell_type": "markdown",
   "metadata": {},
   "source": [
    "There is a lot of missing data, especially in relation to the tribute_time, however, if we limit the year range from 2004 to 2014, the proportion of missing data will decrease"
   ]
  },
  {
   "cell_type": "code",
   "execution_count": 10,
   "metadata": {},
   "outputs": [],
   "source": [
    "df = df[(df['year']>=2004) & (df['year'] <= 2014)]"
   ]
  },
  {
   "cell_type": "code",
   "execution_count": 11,
   "metadata": {},
   "outputs": [],
   "source": [
    "# Proportion of missing data by country in the column 'unemployment' since it's the variable with the biggest proportion of missing data\n",
    "missing_by_country = df.groupby('country')['unemployment'].apply(lambda x: x.isnull().sum() / x.count()).sort_values(ascending=False)\n",
    "#print(missing_by_country)\n",
    "\n",
    "# Collecting the names of countries that have a proportion of missing data in the unemployment column above 5%\n",
    "countries = missing_by_country[missing_by_country > 5].index.tolist()\n",
    "#countries\n",
    "\n",
    "# Removing these countries\n",
    "df = df[~df['country'].isin(countries)]"
   ]
  },
  {
   "cell_type": "code",
   "execution_count": 12,
   "metadata": {},
   "outputs": [],
   "source": [
    "# Replacing missing values with the average for each country for each attribute\n",
    "mean_by_country = df.groupby('country').transform('mean')\n",
    "df.fillna(mean_by_country, inplace=True)"
   ]
  },
  {
   "cell_type": "markdown",
   "metadata": {},
   "source": [
    "After the imputation, 'government spending' and 'exchange' still having missing values, this happens because some countries have the 'inf' as observations and not a usual NaN\n"
   ]
  },
  {
   "cell_type": "code",
   "execution_count": 13,
   "metadata": {},
   "outputs": [],
   "source": [
    "# This is seen with the follow code for governement_spending and after for exchange (just change governement_spending by exchange to see all the countries)\n",
    "missing_by_country = df.groupby('country')['governement_spending'].apply(lambda x: x.isnull().sum() / x.count()).sort_values(ascending=False)\n",
    "#print(missing_by_country)"
   ]
  },
  {
   "cell_type": "code",
   "execution_count": 14,
   "metadata": {},
   "outputs": [],
   "source": [
    "# Droping these countries\n",
    "countries_to_drop = ['malawi', 'trinidad_and_tobago', 'liberia', 'yemen', \"cote_d'ivoire\", \"nigeria\"]\n",
    "df = df[~df['country'].isin(countries_to_drop)]"
   ]
  },
  {
   "cell_type": "code",
   "execution_count": 15,
   "metadata": {},
   "outputs": [
    {
     "data": {
      "text/html": [
       "<div>\n",
       "<style scoped>\n",
       "    .dataframe tbody tr th:only-of-type {\n",
       "        vertical-align: middle;\n",
       "    }\n",
       "\n",
       "    .dataframe tbody tr th {\n",
       "        vertical-align: top;\n",
       "    }\n",
       "\n",
       "    .dataframe thead th {\n",
       "        text-align: right;\n",
       "    }\n",
       "</style>\n",
       "<table border=\"1\" class=\"dataframe\">\n",
       "  <thead>\n",
       "    <tr style=\"text-align: right;\">\n",
       "      <th></th>\n",
       "      <th>country</th>\n",
       "      <th>year</th>\n",
       "      <th>fdi</th>\n",
       "      <th>property_time</th>\n",
       "      <th>cost_procedures</th>\n",
       "      <th>business_time</th>\n",
       "      <th>business_procedure</th>\n",
       "      <th>tribute_time</th>\n",
       "      <th>governement_spending</th>\n",
       "      <th>exchange</th>\n",
       "      <th>inflation</th>\n",
       "      <th>gdp_pc</th>\n",
       "      <th>unemployment</th>\n",
       "      <th>tax_burden</th>\n",
       "      <th>diversity</th>\n",
       "      <th>quality</th>\n",
       "      <th>se_medina</th>\n",
       "      <th>democ_closed_anocracy</th>\n",
       "      <th>democ_democracy</th>\n",
       "      <th>democ_full_democracy</th>\n",
       "      <th>democ_interregnum</th>\n",
       "      <th>democ_interruption</th>\n",
       "      <th>democ_open_anocracy</th>\n",
       "      <th>democ_transition</th>\n",
       "      <th>lgdp_pc</th>\n",
       "    </tr>\n",
       "  </thead>\n",
       "  <tbody>\n",
       "    <tr>\n",
       "      <th>9</th>\n",
       "      <td>angola</td>\n",
       "      <td>2004</td>\n",
       "      <td>9.329239</td>\n",
       "      <td>335.0</td>\n",
       "      <td>910.0</td>\n",
       "      <td>83.0</td>\n",
       "      <td>12.0</td>\n",
       "      <td>289.0</td>\n",
       "      <td>14.312063</td>\n",
       "      <td>103.579947</td>\n",
       "      <td>33.443595</td>\n",
       "      <td>1254.696126</td>\n",
       "      <td>23.6430</td>\n",
       "      <td>84.916689</td>\n",
       "      <td>6.330621</td>\n",
       "      <td>0.40</td>\n",
       "      <td>46.81</td>\n",
       "      <td>1</td>\n",
       "      <td>0</td>\n",
       "      <td>0</td>\n",
       "      <td>0</td>\n",
       "      <td>0</td>\n",
       "      <td>0</td>\n",
       "      <td>0</td>\n",
       "      <td>7.134649</td>\n",
       "    </tr>\n",
       "    <tr>\n",
       "      <th>10</th>\n",
       "      <td>angola</td>\n",
       "      <td>2005</td>\n",
       "      <td>-3.526657</td>\n",
       "      <td>335.0</td>\n",
       "      <td>653.8</td>\n",
       "      <td>83.0</td>\n",
       "      <td>12.0</td>\n",
       "      <td>284.0</td>\n",
       "      <td>16.029037</td>\n",
       "      <td>106.590962</td>\n",
       "      <td>42.374249</td>\n",
       "      <td>1900.723816</td>\n",
       "      <td>12.6408</td>\n",
       "      <td>84.916689</td>\n",
       "      <td>6.245515</td>\n",
       "      <td>0.42</td>\n",
       "      <td>43.84</td>\n",
       "      <td>1</td>\n",
       "      <td>0</td>\n",
       "      <td>0</td>\n",
       "      <td>0</td>\n",
       "      <td>0</td>\n",
       "      <td>0</td>\n",
       "      <td>0</td>\n",
       "      <td>7.549990</td>\n",
       "    </tr>\n",
       "    <tr>\n",
       "      <th>11</th>\n",
       "      <td>angola</td>\n",
       "      <td>2006</td>\n",
       "      <td>-0.072001</td>\n",
       "      <td>335.0</td>\n",
       "      <td>498.2</td>\n",
       "      <td>83.0</td>\n",
       "      <td>12.0</td>\n",
       "      <td>284.0</td>\n",
       "      <td>15.341722</td>\n",
       "      <td>94.625159</td>\n",
       "      <td>17.115665</td>\n",
       "      <td>2597.963585</td>\n",
       "      <td>12.6408</td>\n",
       "      <td>84.900000</td>\n",
       "      <td>6.295336</td>\n",
       "      <td>0.40</td>\n",
       "      <td>41.23</td>\n",
       "      <td>1</td>\n",
       "      <td>0</td>\n",
       "      <td>0</td>\n",
       "      <td>0</td>\n",
       "      <td>0</td>\n",
       "      <td>0</td>\n",
       "      <td>0</td>\n",
       "      <td>7.862483</td>\n",
       "    </tr>\n",
       "    <tr>\n",
       "      <th>12</th>\n",
       "      <td>angola</td>\n",
       "      <td>2007</td>\n",
       "      <td>-1.368762</td>\n",
       "      <td>335.0</td>\n",
       "      <td>343.7</td>\n",
       "      <td>83.0</td>\n",
       "      <td>12.0</td>\n",
       "      <td>284.0</td>\n",
       "      <td>15.536935</td>\n",
       "      <td>108.060068</td>\n",
       "      <td>4.308432</td>\n",
       "      <td>3121.348735</td>\n",
       "      <td>12.6408</td>\n",
       "      <td>85.000000</td>\n",
       "      <td>6.211946</td>\n",
       "      <td>0.45</td>\n",
       "      <td>37.13</td>\n",
       "      <td>1</td>\n",
       "      <td>0</td>\n",
       "      <td>0</td>\n",
       "      <td>0</td>\n",
       "      <td>0</td>\n",
       "      <td>0</td>\n",
       "      <td>0</td>\n",
       "      <td>8.046020</td>\n",
       "    </tr>\n",
       "    <tr>\n",
       "      <th>13</th>\n",
       "      <td>angola</td>\n",
       "      <td>2008</td>\n",
       "      <td>1.896314</td>\n",
       "      <td>335.0</td>\n",
       "      <td>196.8</td>\n",
       "      <td>68.0</td>\n",
       "      <td>8.0</td>\n",
       "      <td>284.0</td>\n",
       "      <td>16.814612</td>\n",
       "      <td>121.364708</td>\n",
       "      <td>19.365774</td>\n",
       "      <td>4081.717497</td>\n",
       "      <td>12.6408</td>\n",
       "      <td>85.175100</td>\n",
       "      <td>6.315526</td>\n",
       "      <td>0.47</td>\n",
       "      <td>35.26</td>\n",
       "      <td>1</td>\n",
       "      <td>0</td>\n",
       "      <td>0</td>\n",
       "      <td>0</td>\n",
       "      <td>0</td>\n",
       "      <td>0</td>\n",
       "      <td>0</td>\n",
       "      <td>8.314273</td>\n",
       "    </tr>\n",
       "  </tbody>\n",
       "</table>\n",
       "</div>"
      ],
      "text/plain": [
       "   country  year       fdi  property_time  cost_procedures  business_time  \\\n",
       "9   angola  2004  9.329239          335.0            910.0           83.0   \n",
       "10  angola  2005 -3.526657          335.0            653.8           83.0   \n",
       "11  angola  2006 -0.072001          335.0            498.2           83.0   \n",
       "12  angola  2007 -1.368762          335.0            343.7           83.0   \n",
       "13  angola  2008  1.896314          335.0            196.8           68.0   \n",
       "\n",
       "    business_procedure  tribute_time  governement_spending    exchange  \\\n",
       "9                 12.0         289.0             14.312063  103.579947   \n",
       "10                12.0         284.0             16.029037  106.590962   \n",
       "11                12.0         284.0             15.341722   94.625159   \n",
       "12                12.0         284.0             15.536935  108.060068   \n",
       "13                 8.0         284.0             16.814612  121.364708   \n",
       "\n",
       "    inflation       gdp_pc  unemployment  tax_burden  diversity  quality  \\\n",
       "9   33.443595  1254.696126       23.6430   84.916689   6.330621     0.40   \n",
       "10  42.374249  1900.723816       12.6408   84.916689   6.245515     0.42   \n",
       "11  17.115665  2597.963585       12.6408   84.900000   6.295336     0.40   \n",
       "12   4.308432  3121.348735       12.6408   85.000000   6.211946     0.45   \n",
       "13  19.365774  4081.717497       12.6408   85.175100   6.315526     0.47   \n",
       "\n",
       "    se_medina  democ_closed_anocracy  democ_democracy  democ_full_democracy  \\\n",
       "9       46.81                      1                0                     0   \n",
       "10      43.84                      1                0                     0   \n",
       "11      41.23                      1                0                     0   \n",
       "12      37.13                      1                0                     0   \n",
       "13      35.26                      1                0                     0   \n",
       "\n",
       "    democ_interregnum  democ_interruption  democ_open_anocracy  \\\n",
       "9                   0                   0                    0   \n",
       "10                  0                   0                    0   \n",
       "11                  0                   0                    0   \n",
       "12                  0                   0                    0   \n",
       "13                  0                   0                    0   \n",
       "\n",
       "    democ_transition   lgdp_pc  \n",
       "9                  0  7.134649  \n",
       "10                 0  7.549990  \n",
       "11                 0  7.862483  \n",
       "12                 0  8.046020  \n",
       "13                 0  8.314273  "
      ]
     },
     "execution_count": 15,
     "metadata": {},
     "output_type": "execute_result"
    }
   ],
   "source": [
    "df.head()"
   ]
  },
  {
   "cell_type": "code",
   "execution_count": 17,
   "metadata": {},
   "outputs": [
    {
     "data": {
      "text/plain": [
       "country                  0\n",
       "tax_burden               0\n",
       "democ_transition         0\n",
       "democ_open_anocracy      0\n",
       "democ_interruption       0\n",
       "democ_interregnum        0\n",
       "democ_full_democracy     0\n",
       "democ_democracy          0\n",
       "democ_closed_anocracy    0\n",
       "se_medina                0\n",
       "dtype: int64"
      ]
     },
     "execution_count": 17,
     "metadata": {},
     "output_type": "execute_result"
    }
   ],
   "source": [
    "# No more missing values\n",
    "df.isnull().sum().sort_values(ascending=False).head(10)"
   ]
  },
  {
   "cell_type": "code",
   "execution_count": 18,
   "metadata": {},
   "outputs": [],
   "source": [
    "# Droping columns that will not be used\n",
    "df = df.drop(['country', 'year'], axis=1)"
   ]
  },
  {
   "cell_type": "code",
   "execution_count": 19,
   "metadata": {},
   "outputs": [],
   "source": [
    "# Renaming the columns for better future visualization\n",
    "rename_dictionary = {'se_medina':'Shadow Economy',\n",
    "                        'lgdp_pc': 'Log. GDP Per Capita', \n",
    "                         'democ_transition': 'Dem. Transition', \n",
    "                         'democ_interruption': 'Dem. Interruption',\n",
    "                        'democ_interregnum':'Dem. Interregnum',\n",
    "                        'democ_full_democracy': 'Dem. Full',\n",
    "                        'democ_democracy':'Democracy',\n",
    "                        'democ_autocracy':'Autocracy',\n",
    "                        'democ_closed_anocracy':'Closed Anocracy',\n",
    "                        'democ_open_anocracy': 'Open Anocracy',\n",
    "                        'quality':'Quality',\n",
    "                        'diversity':'Diversity',\n",
    "                        'tax_burden':'Tax Burden',\n",
    "                        'unemployment':'Unemployment',\n",
    "                        'inflation':'Inflation',\n",
    "                        'exchange':'Exchange',\n",
    "                        'governement_spending':'Government Spending',\n",
    "                         'tribute_time':'Tribute Time',\n",
    "                        'business_procedure':'Business Procedure',\n",
    "                        'business_time':'Business Time',\n",
    "                        'cost_procedures':'Cost Procedures',\n",
    "                        'property_time':'Property Time',\n",
    "                        'fdi':'FDI'}\n",
    "\n",
    "df = df.rename(columns=rename_dictionary)"
   ]
  },
  {
   "cell_type": "code",
   "execution_count": 20,
   "metadata": {},
   "outputs": [],
   "source": [
    "# Changing the order\n",
    "new_order = ['Shadow Economy', 'FDI', 'Property Time', 'Cost Procedures', 'Business Time', 'Business Procedure',\n",
    "               'Tribute Time', 'Government Spending', 'Exchange', 'Inflation', 'Unemployment', 'Tax Burden', \n",
    "               'Diversity', 'Quality', 'Closed Anocracy', 'Democracy', 'Dem. Full', 'Dem. Interregnum', \n",
    "               'Dem. Interruption', 'Open Anocracy', 'Dem. Transition', 'Log. GDP Per Capita']\n",
    "\n",
    "df = df.reindex(columns=new_order)"
   ]
  },
  {
   "cell_type": "markdown",
   "metadata": {},
   "source": [
    "### Spliting between train and test"
   ]
  },
  {
   "cell_type": "code",
   "execution_count": 21,
   "metadata": {},
   "outputs": [],
   "source": [
    "train_set, test_set = train_test_split(df, test_size=0.2, random_state=0)"
   ]
  },
  {
   "cell_type": "markdown",
   "metadata": {},
   "source": [
    "### Data padronization"
   ]
  },
  {
   "cell_type": "markdown",
   "metadata": {},
   "source": [
    "##### First the training data"
   ]
  },
  {
   "cell_type": "code",
   "execution_count": 22,
   "metadata": {},
   "outputs": [],
   "source": [
    "X_train, X_valid, y_train, y_valid = train_test_split(\n",
    "    train_set.drop(labels=['Shadow Economy'], axis=1),\n",
    "    train_set['Shadow Economy'],\n",
    "    test_size=0.2,\n",
    "    random_state=0\n",
    ")"
   ]
  },
  {
   "cell_type": "code",
   "execution_count": 23,
   "metadata": {},
   "outputs": [],
   "source": [
    "scaler = MinMaxScaler()\n",
    "scaler.fit(X_train)\n",
    "\n",
    "X_train_scaled = scaler.transform(X_train)\n",
    "X_valid_scaled = scaler.transform(X_valid)"
   ]
  },
  {
   "cell_type": "markdown",
   "metadata": {},
   "source": [
    "##### After, the testing data"
   ]
  },
  {
   "cell_type": "code",
   "execution_count": 24,
   "metadata": {},
   "outputs": [
    {
     "data": {
      "text/plain": [
       "array([[5.48358593e-02, 9.86937591e-02, 1.50844730e-02, ...,\n",
       "        1.00000000e+00, 0.00000000e+00, 5.44614959e-01],\n",
       "       [5.76425349e-02, 1.01596517e-02, 5.29632609e-03, ...,\n",
       "        0.00000000e+00, 0.00000000e+00, 6.97405026e-01],\n",
       "       [3.95217773e-02, 6.09579100e-02, 6.30195763e-03, ...,\n",
       "        0.00000000e+00, 0.00000000e+00, 3.22696045e-01],\n",
       "       ...,\n",
       "       [2.79046115e-02, 3.19303338e-02, 2.01126307e-04, ...,\n",
       "        0.00000000e+00, 0.00000000e+00, 6.17652554e-01],\n",
       "       [3.48678199e-02, 5.66037736e-01, 8.04505229e-03, ...,\n",
       "        0.00000000e+00, 0.00000000e+00, 7.24268686e-01],\n",
       "       [2.91278719e-02, 8.70827286e-03, 4.02252615e-04, ...,\n",
       "        0.00000000e+00, 0.00000000e+00, 9.01553830e-01]])"
      ]
     },
     "execution_count": 24,
     "metadata": {},
     "output_type": "execute_result"
    }
   ],
   "source": [
    "X_test = test_set.drop('Shadow Economy', axis=1)\n",
    "y_test = test_set['Shadow Economy']\n",
    "\n",
    "X_test_scaled = scaler.transform(X_test)\n",
    "\n",
    "X_test_scaled"
   ]
  },
  {
   "cell_type": "markdown",
   "metadata": {},
   "source": [
    "### Regressions"
   ]
  },
  {
   "cell_type": "markdown",
   "metadata": {},
   "source": [
    "#### Linear Regression"
   ]
  },
  {
   "cell_type": "code",
   "execution_count": 45,
   "metadata": {},
   "outputs": [
    {
     "name": "stdout",
     "output_type": "stream",
     "text": [
      "Fitting 5 folds for each of 4 candidates, totalling 20 fits\n",
      "\n",
      "Best Parameters:  {'copy_X': True, 'fit_intercept': True}\n",
      "\n",
      "Mean Absolute Percentage Error (MAPE) on training set: 24.43%\n",
      "Mean Absolute Percentage Error (MAPE) on validation set: 24.53%\n",
      "Mean Absolute Percentage Error (MAPE) on test set: 23.60% \n",
      "\n",
      "Fold 1: Mean Score = 25.58%, Std = 1.02%\n",
      "Fold 2: Mean Score = 29.77%, Std = 2.94%\n",
      "Fold 3: Mean Score = 24.95%, Std = 0.38%\n",
      "Fold 4: Mean Score = 24.21%, Std = 1.08%\n",
      "Fold 5: Mean Score = 28.54%, Std = 1.75%\n",
      "\n",
      "Overall Mean Score = 26.61%, Overall Std = 1.43%\n"
     ]
    }
   ],
   "source": [
    "from sklearn.linear_model import LinearRegression\n",
    "\n",
    "# Params set\n",
    "linear_param_grid = {\n",
    "    'fit_intercept': [True, False],\n",
    "    'copy_X':[True, False]\n",
    "}\n",
    "\n",
    "# Create a linear regression model\n",
    "linear_model = LinearRegression()\n",
    "\n",
    "# Perform Grid Search with cross-validation\n",
    "linear_grid_search = GridSearchCV(linear_model, \n",
    "                                  linear_param_grid, \n",
    "                                  scoring='neg_mean_absolute_percentage_error', \n",
    "                                  cv=5,\n",
    "                                  verbose=3,\n",
    "                                  n_jobs=-1)\n",
    "\n",
    "# Fitting the model\n",
    "linear_grid_search.fit(X_train_scaled, y_train)\n",
    "\n",
    "# Print the best parameters\n",
    "print(\"\\nBest Parameters: \", linear_grid_search.best_params_)\n",
    "\n",
    "# Get the best model\n",
    "linear_best_model = linear_grid_search.best_estimator_\n",
    "\n",
    "# Predictions and evaluations on training set\n",
    "y_train_pred = linear_grid_search.predict(X_train_scaled)\n",
    "mape_train = np.mean(np.abs((y_train - y_train_pred) / y_train)) * 100\n",
    "print(f'\\nMean Absolute Percentage Error (MAPE) on training set: {mape_train:.2f}%')\n",
    "\n",
    "# Predictions and evaluations on validation set\n",
    "y_pred = linear_grid_search.predict(X_valid_scaled)\n",
    "mape = np.mean(np.abs((y_valid - y_pred) / y_valid)) * 100\n",
    "print(f'Mean Absolute Percentage Error (MAPE) on validation set: {mape:.2f}%')\n",
    "\n",
    "# Predictions and evaluations on test set\n",
    "y_test_pred = linear_grid_search.predict(X_test_scaled)\n",
    "mape_test = np.mean(np.abs((y_test - y_test_pred) / y_test)) * 100\n",
    "print(f'Mean Absolute Percentage Error (MAPE) on test set: {mape_test:.2f}% \\n')\n",
    "\n",
    "# Access cross-validation results\n",
    "cv_results = linear_grid_search.cv_results_\n",
    "\n",
    "# Print mean and std for each fold\n",
    "for fold_idx in range(linear_grid_search.cv):\n",
    "    mean_score = -cv_results[f\"split{fold_idx}_test_score\"].mean() * 100  # Convert to percentage\n",
    "    std_score = cv_results[f\"split{fold_idx}_test_score\"].std() * 100  # Convert to percentage\n",
    "\n",
    "    print(f\"Fold {fold_idx + 1}: Mean Score = {mean_score:.2f}%, Std = {std_score:.2f}%\")\n",
    "\n",
    "# Calculate and print global mean and std\n",
    "global_mean_score = -cv_results['mean_test_score'].mean() * 100  # Convert to percentage\n",
    "global_std_score = cv_results['mean_test_score'].std() * 100  # Convert to percentage\n",
    "\n",
    "print(f\"\\nOverall Mean Score = {global_mean_score:.2f}%, Overall Std = {global_std_score:.2f}%\")\n"
   ]
  },
  {
   "cell_type": "code",
   "execution_count": 26,
   "metadata": {},
   "outputs": [
    {
     "data": {
      "image/png": "[encoded data removed]",
      "text/plain": [
       "<Figure size 1000x600 with 1 Axes>"
      ]
     },
     "metadata": {},
     "output_type": "display_data"
    }
   ],
   "source": [
    "coeficientes = linear_best_model.coef_\n",
    "colors = ['red' if coef < 0 else 'blue' for coef in coeficientes]\n",
    "plt.figure(figsize=(10, 6))\n",
    "\n",
    "\n",
    "variables_names = X_train.columns.tolist()\n",
    "\n",
    "plt.barh(variables_names, coeficientes, color=colors)\n",
    "plt.xlabel('Regression Coefficients')\n",
    "plt.ylabel('Variables')\n",
    "\n",
    "\n",
    "for i, coef in enumerate(coeficientes):\n",
    "    if coef < 0:\n",
    "        plt.text(coef, i, f'{coef:.2f}', ha='right', va='center', color='black', fontsize=8)\n",
    "    else:\n",
    "        plt.text(coef, i, f'{coef:.2f}', ha='left', va='center', color='black', fontsize=8)\n",
    "  \n",
    "plt.tight_layout()\n",
    "\n",
    "        \n",
    "plt.show()"
   ]
  },
  {
   "cell_type": "markdown",
   "metadata": {},
   "source": [
    "### Lasso"
   ]
  },
  {
   "cell_type": "code",
   "execution_count": 49,
   "metadata": {},
   "outputs": [
    {
     "name": "stdout",
     "output_type": "stream",
     "text": [
      "Fitting 5 folds for each of 128 candidates, totalling 640 fits\n"
     ]
    },
    {
     "name": "stdout",
     "output_type": "stream",
     "text": [
      "\n",
      "Mean Absolute Percentage Error (MAPE) on training set: 24.52%\n",
      "Mean Absolute Percentage Error (MAPE) on validation set: 24.81%\n",
      "Mean Absolute Percentage Error (MAPE) on test set: 23.63% \n",
      "\n",
      "Fold 1: Mean Score = 37.64%, Std = 19.79%\n",
      "Fold 2: Mean Score = 39.52%, Std = 17.80%\n",
      "Fold 3: Mean Score = 36.00%, Std = 19.50%\n",
      "Fold 4: Mean Score = 35.34%, Std = 19.57%\n",
      "Fold 5: Mean Score = 39.61%, Std = 18.65%\n",
      "\n",
      "Overall Mean Score = 37.62%, Overall Std = 19.01%\n"
     ]
    }
   ],
   "source": [
    "from sklearn.linear_model import Lasso\n",
    "\n",
    "lasso_param_grid = {\n",
    "    'fit_intercept': [True, False],\n",
    "    'copy_X': [True, False],\n",
    "    'alpha': [1e-5, 1e-4, 1e-3, 0.01, 0.1, 1.0, 10.0, 100.0],  \n",
    "    'max_iter': [1000, 2000, 3000, 5000]  \n",
    "}\n",
    "\n",
    "# Create a lasso model\n",
    "lasso_model = Lasso(random_state=0)\n",
    "\n",
    "# Perform Grid Search with cross-validation\n",
    "lasso_grid_search = GridSearchCV(lasso_model, \n",
    "                                  lasso_param_grid, \n",
    "                                  scoring='neg_mean_absolute_percentage_error', \n",
    "                                  cv=5,\n",
    "                                  verbose=3,\n",
    "                                  n_jobs=-1)\n",
    "\n",
    "# Fitting the model\n",
    "lasso_grid_search.fit(X_train_scaled, y_train)\n",
    "\n",
    "# Get the best model\n",
    "lasso_best_model = lasso_grid_search.best_estimator_\n",
    "\n",
    "# Predictions and evaluations on training set\n",
    "y_train_pred = lasso_best_model.predict(X_train_scaled)\n",
    "mape_train = np.mean(np.abs((y_train - y_train_pred) / y_train)) * 100\n",
    "print(f'\\nMean Absolute Percentage Error (MAPE) on training set: {mape_train:.2f}%')\n",
    "\n",
    "# Predictions and evaluations on validation set\n",
    "y_pred = lasso_best_model.predict(X_valid_scaled)\n",
    "mape = np.mean(np.abs((y_valid - y_pred) / y_valid)) * 100\n",
    "print(f'Mean Absolute Percentage Error (MAPE) on validation set: {mape:.2f}%')\n",
    "\n",
    "# Predictions and evaluations on test set\n",
    "y_test_pred = lasso_best_model.predict(X_test_scaled)\n",
    "mape_test = np.mean(np.abs((y_test - y_test_pred) / y_test)) * 100\n",
    "print(f'Mean Absolute Percentage Error (MAPE) on test set: {mape_test:.2f}% \\n')\n",
    "\n",
    "# Access cross-validation results\n",
    "cv_results = lasso_grid_search.cv_results_\n",
    "\n",
    "# Print mean and std for each fold\n",
    "for fold_idx in range(lasso_grid_search.cv):\n",
    "    mean_score = -cv_results[f\"split{fold_idx}_test_score\"].mean() * 100  # Convert to percentage\n",
    "    std_score = cv_results[f\"split{fold_idx}_test_score\"].std() * 100  # Convert to percentage\n",
    "\n",
    "    print(f\"Fold {fold_idx + 1}: Mean Score = {mean_score:.2f}%, Std = {std_score:.2f}%\")\n",
    "\n",
    "# Calculate and print global mean and std\n",
    "global_mean_score = -cv_results['mean_test_score'].mean() * 100  # Convert to percentage\n",
    "global_std_score = cv_results['mean_test_score'].std() * 100  # Convert to percentage\n",
    "\n",
    "print(f\"\\nOverall Mean Score = {global_mean_score:.2f}%, Overall Std = {global_std_score:.2f}%\")"
   ]
  },
  {
   "cell_type": "code",
   "execution_count": 50,
   "metadata": {},
   "outputs": [
    {
     "data": {
      "image/png": "[encoded data removed]",
      "text/plain": [
       "<Figure size 1000x600 with 1 Axes>"
      ]
     },
     "metadata": {},
     "output_type": "display_data"
    }
   ],
   "source": [
    "lasso_coeficients = lasso_best_model.coef_\n",
    "colors = ['red' if coef < 0 else 'blue' for coef in lasso_coeficients]\n",
    "plt.figure(figsize=(10, 6))\n",
    "\n",
    "\n",
    "variables_names = X_train.columns.tolist()\n",
    "\n",
    "plt.barh(variables_names, lasso_coeficients, color=colors)\n",
    "plt.xlabel('Regression Coefficients')\n",
    "plt.ylabel('Variables')\n",
    "\n",
    "\n",
    "for i, coef in enumerate(lasso_coeficients):\n",
    "    if coef < 0:\n",
    "        plt.text(coef, i, f'{coef:.2f}', ha='right', va='center', color='black', fontsize=8)\n",
    "    else:\n",
    "        plt.text(coef, i, f'{coef:.2f}', ha='left', va='center', color='black', fontsize=8)\n",
    "  \n",
    "plt.tight_layout()\n",
    "\n",
    "        \n",
    "plt.show()"
   ]
  },
  {
   "cell_type": "markdown",
   "metadata": {},
   "source": [
    "### Ridge"
   ]
  },
  {
   "cell_type": "code",
   "execution_count": 51,
   "metadata": {},
   "outputs": [
    {
     "name": "stdout",
     "output_type": "stream",
     "text": [
      "Fitting 5 folds for each of 48 candidates, totalling 240 fits\n",
      "\n",
      "Mean Absolute Percentage Error (MAPE) on training set: 24.45%\n",
      "Mean Absolute Percentage Error (MAPE) on validation set: 24.54%\n",
      "Mean Absolute Percentage Error (MAPE) on test set: 23.58% \n",
      "\n",
      "Fold 1: Mean Score = 25.83%, Std = 1.08%\n",
      "Fold 2: Mean Score = 29.90%, Std = 3.09%\n",
      "Fold 3: Mean Score = 25.07%, Std = 0.85%\n",
      "Fold 4: Mean Score = 24.42%, Std = 1.16%\n",
      "Fold 5: Mean Score = 28.92%, Std = 1.87%\n",
      "\n",
      "Overall Mean Score = 26.83%, Overall Std = 1.60%\n"
     ]
    }
   ],
   "source": [
    "from sklearn.linear_model import Ridge\n",
    "\n",
    "ridge_param_grid = {\n",
    "    'fit_intercept': [True, False],\n",
    "    'copy_X': [True, False],\n",
    "    'alpha': [0.1, 0.5, 1.0, 1.5],  \n",
    "    'max_iter': [1000, 2000, 3000]  \n",
    "}\n",
    "\n",
    "# Create a lasso model\n",
    "ridge_model = Ridge()\n",
    "\n",
    "# Perform Grid Search with cross-validation\n",
    "ridge_grid_search = GridSearchCV(ridge_model, \n",
    "                                  ridge_param_grid, \n",
    "                                  scoring='neg_mean_absolute_percentage_error', \n",
    "                                  cv=5,\n",
    "                                  verbose=2,\n",
    "                                  n_jobs=-1)\n",
    "\n",
    "# Fitting the model\n",
    "ridge_grid_search.fit(X_train_scaled, y_train)\n",
    "\n",
    "# Get the best model\n",
    "ridge_best_model = ridge_grid_search.best_estimator_\n",
    "\n",
    "# Predictions and evaluations on training set\n",
    "y_train_pred = ridge_best_model.predict(X_train_scaled)\n",
    "mape_train = np.mean(np.abs((y_train - y_train_pred) / y_train)) * 100\n",
    "print(f'\\nMean Absolute Percentage Error (MAPE) on training set: {mape_train:.2f}%')\n",
    "\n",
    "# Predictions and evaluations on validation set\n",
    "y_pred = ridge_best_model.predict(X_valid_scaled)\n",
    "mape = np.mean(np.abs((y_valid - y_pred) / y_valid)) * 100\n",
    "print(f'Mean Absolute Percentage Error (MAPE) on validation set: {mape:.2f}%')\n",
    "\n",
    "# Predictions and evaluations on test set\n",
    "y_test_pred = ridge_best_model.predict(X_test_scaled)\n",
    "mape_test = np.mean(np.abs((y_test - y_test_pred) / y_test)) * 100\n",
    "print(f'Mean Absolute Percentage Error (MAPE) on test set: {mape_test:.2f}% \\n')\n",
    "\n",
    "# Access cross-validation results\n",
    "cv_results = ridge_grid_search.cv_results_\n",
    "\n",
    "# Print mean and std for each fold\n",
    "for fold_idx in range(ridge_grid_search.cv):\n",
    "    mean_score = -cv_results[f\"split{fold_idx}_test_score\"].mean() * 100  # Convert to percentage\n",
    "    std_score = cv_results[f\"split{fold_idx}_test_score\"].std() * 100  # Convert to percentage\n",
    "\n",
    "    print(f\"Fold {fold_idx + 1}: Mean Score = {mean_score:.2f}%, Std = {std_score:.2f}%\")\n",
    "\n",
    "# Calculate and print global mean and std\n",
    "global_mean_score = -cv_results['mean_test_score'].mean() * 100  # Convert to percentage\n",
    "global_std_score = cv_results['mean_test_score'].std() * 100  # Convert to percentage\n",
    "\n",
    "print(f\"\\nOverall Mean Score = {global_mean_score:.2f}%, Overall Std = {global_std_score:.2f}%\")"
   ]
  },
  {
   "cell_type": "code",
   "execution_count": 52,
   "metadata": {},
   "outputs": [
    {
     "data": {
      "image/png": "[encoded data removed]",
      "text/plain": [
       "<Figure size 1000x600 with 1 Axes>"
      ]
     },
     "metadata": {},
     "output_type": "display_data"
    }
   ],
   "source": [
    "ridge_coeficients = ridge_best_model.coef_\n",
    "colors = ['red' if coef < 0 else 'blue' for coef in ridge_coeficients]\n",
    "plt.figure(figsize=(10, 6))\n",
    "\n",
    "\n",
    "variables_names = X_train.columns.tolist()\n",
    "\n",
    "plt.barh(variables_names, ridge_coeficients, color=colors)\n",
    "plt.xlabel('Regression Coefficients')\n",
    "plt.ylabel('Variables')\n",
    "\n",
    "\n",
    "for i, coef in enumerate(ridge_coeficients):\n",
    "    if coef < 0:\n",
    "        plt.text(coef, i, f'{coef:.2f}', ha='right', va='center', color='black', fontsize=8)\n",
    "    else:\n",
    "        plt.text(coef, i, f'{coef:.2f}', ha='left', va='center', color='black', fontsize=8)\n",
    "  \n",
    "plt.tight_layout()\n",
    "\n",
    "        \n",
    "plt.show()"
   ]
  },
  {
   "cell_type": "markdown",
   "metadata": {},
   "source": [
    "### ElasticNet"
   ]
  },
  {
   "cell_type": "code",
   "execution_count": 54,
   "metadata": {},
   "outputs": [
    {
     "name": "stdout",
     "output_type": "stream",
     "text": [
      "Fitting 5 folds for each of 270 candidates, totalling 1350 fits\n"
     ]
    },
    {
     "name": "stdout",
     "output_type": "stream",
     "text": [
      "\n",
      "Mean Absolute Percentage Error (MAPE) on training set: 24.48%\n",
      "Mean Absolute Percentage Error (MAPE) on validation set: 24.58%\n",
      "Mean Absolute Percentage Error (MAPE) on test set: 23.57% \n",
      "\n",
      "Fold 1: Mean Score = 39.29%, Std = 16.16%\n",
      "Fold 2: Mean Score = 40.10%, Std = 14.17%\n",
      "Fold 3: Mean Score = 37.11%, Std = 16.26%\n",
      "Fold 4: Mean Score = 36.33%, Std = 16.14%\n",
      "Fold 5: Mean Score = 40.63%, Std = 14.84%\n",
      "\n",
      "Overall Mean Score = 38.69%, Overall Std = 15.45%\n"
     ]
    }
   ],
   "source": [
    "from sklearn.linear_model import ElasticNet\n",
    "\n",
    "en_param_grid = {'alpha': [0.001, 0.01, 0.1, 1.0, 10.0],\n",
    "              'l1_ratio': [0.25, 0.5, 0.75],\n",
    "              'fit_intercept': [True, False],\n",
    "              'max_iter': [1000, 2000, 3000],\n",
    "              'tol': [1e-4, 1e-3, 1e-2]}\n",
    "\n",
    "# Create a lasso model\n",
    "en_model = ElasticNet(random_state=0)\n",
    "\n",
    "# Perform Grid Search with cross-validation\n",
    "en_grid_search = GridSearchCV(en_model, \n",
    "                                  en_param_grid, \n",
    "                                  scoring='neg_mean_absolute_percentage_error', \n",
    "                                  cv=5,\n",
    "                                  verbose=2,\n",
    "                                  n_jobs=-1)\n",
    "\n",
    "# Fitting the model\n",
    "en_grid_search.fit(X_train_scaled, y_train)\n",
    "\n",
    "# Get the best model\n",
    "en_best_model = en_grid_search.best_estimator_\n",
    "\n",
    "# Predictions and evaluations on training set\n",
    "y_train_pred = en_best_model.predict(X_train_scaled)\n",
    "mape_train = np.mean(np.abs((y_train - y_train_pred) / y_train)) * 100\n",
    "print(f'\\nMean Absolute Percentage Error (MAPE) on training set: {mape_train:.2f}%')\n",
    "\n",
    "# Predictions and evaluations on validation set\n",
    "y_pred = en_best_model.predict(X_valid_scaled)\n",
    "mape = np.mean(np.abs((y_valid - y_pred) / y_valid)) * 100\n",
    "print(f'Mean Absolute Percentage Error (MAPE) on validation set: {mape:.2f}%')\n",
    "\n",
    "# Predictions and evaluations on test set\n",
    "y_test_pred = en_best_model.predict(X_test_scaled)\n",
    "mape_test = np.mean(np.abs((y_test - y_test_pred) / y_test)) * 100\n",
    "print(f'Mean Absolute Percentage Error (MAPE) on test set: {mape_test:.2f}% \\n')\n",
    "\n",
    "# Access cross-validation results\n",
    "cv_results = en_grid_search.cv_results_\n",
    "\n",
    "# Print mean and std for each fold\n",
    "for fold_idx in range(en_grid_search.cv):\n",
    "    mean_score = -cv_results[f\"split{fold_idx}_test_score\"].mean() * 100  # Convert to percentage\n",
    "    std_score = cv_results[f\"split{fold_idx}_test_score\"].std() * 100  # Convert to percentage\n",
    "\n",
    "    print(f\"Fold {fold_idx + 1}: Mean Score = {mean_score:.2f}%, Std = {std_score:.2f}%\")\n",
    "\n",
    "# Calculate and print global mean and std\n",
    "global_mean_score = -cv_results['mean_test_score'].mean() * 100  # Convert to percentage\n",
    "global_std_score = cv_results['mean_test_score'].std() * 100  # Convert to percentage\n",
    "\n",
    "print(f\"\\nOverall Mean Score = {global_mean_score:.2f}%, Overall Std = {global_std_score:.2f}%\")"
   ]
  },
  {
   "cell_type": "code",
   "execution_count": null,
   "metadata": {},
   "outputs": [],
   "source": []
  }
 ],
 "metadata": {
  "kernelspec": {
   "display_name": "Python 3",
   "language": "python",
   "name": "python3"
  },
  "language_info": {
   "codemirror_mode": {
    "name": "ipython",
    "version": 3
   },
   "file_extension": ".py",
   "mimetype": "text/x-python",
   "name": "python",
   "nbconvert_exporter": "python",
   "pygments_lexer": "ipython3",
   "version": "3.11.7"
  }
 },
 "nbformat": 4,
 "nbformat_minor": 2
}
